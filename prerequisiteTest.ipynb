{
 "cells": [
  {
   "cell_type": "markdown",
   "id": "e5bb52d1",
   "metadata": {},
   "source": [
    "# **Prerequisite Test (ES 335)**"
   ]
  },
  {
   "cell_type": "code",
   "execution_count": 73,
   "id": "0fa151ff",
   "metadata": {},
   "outputs": [],
   "source": [
    "import numpy as np\n",
    "import pandas as pd\n",
    "import time\n",
    "import matplotlib.pyplot as plt\n",
    "import jax\n",
    "import jax.numpy as jnp\n",
    "import sympy as sp"
   ]
  },
  {
   "cell_type": "markdown",
   "id": "c45f606c",
   "metadata": {},
   "source": [
    "**1. How many multiplications and additions do you need to perform a matrix multiplication between a (n, k) and (k, m) matrix? Explain.**"
   ]
  },
  {
   "cell_type": "markdown",
   "id": "984ad3f8",
   "metadata": {},
   "source": [
    "To multiply a (n, k) matrix A with a (k, m) matrix B, the result is a (n, m) matrix C.\n",
    "\n",
    "**$ C[i][j] = A[i][0]*B[0][j] + A[i][1]*B[1][j] + ... + A[i][k-1]*B[k-1][j] $**\n",
    "\n",
    "For each of the n*m elements in C, we perform k multiplications and (k-1) additions.\n",
    "\n",
    "Therefore:\n",
    "- Total multiplications: n * m * k\n",
    "- Total additions: n * m * (k - 1)\n",
    "\n",
    "In summary, matrix multiplication between (n, k) and (k, m) matrices requires **n*m*k** multiplications and **n*m*(k-1)** additions.\n"
   ]
  },
  {
   "cell_type": "markdown",
   "id": "01967107",
   "metadata": {},
   "source": [
    "**2. Write Python code to multiply the above two matrices. Solve using list of lists and then use numpy. Compare the timing of both solutions. Which one is faster? Why?**"
   ]
  },
  {
   "cell_type": "code",
   "execution_count": 74,
   "id": "96482583",
   "metadata": {},
   "outputs": [],
   "source": [
    "A = [\n",
    "    [1, 2, 3, 4],\n",
    "    [5, 6, 7, 8],\n",
    "    [9, 10, 11, 12]\n",
    "]\n",
    "\n",
    "B = [\n",
    "    [2, 3],\n",
    "    [4, 5],\n",
    "    [6, 7],\n",
    "    [8, 9]\n",
    "]"
   ]
  },
  {
   "cell_type": "code",
   "execution_count": 75,
   "id": "5b33fc15",
   "metadata": {},
   "outputs": [],
   "source": [
    "def matrix_mul(A, B):\n",
    "    n = len(A)\n",
    "    k = len(A[0])\n",
    "    m = len(B[0])\n",
    "    \n",
    "    C = [[0 for _ in range(m)] for _ in range(n)]\n",
    "    for i in range(n):\n",
    "        for j in range(m):\n",
    "            for l in range(k):\n",
    "                C[i][j] += A[i][l] * B[l][j]\n",
    "    return C"
   ]
  },
  {
   "cell_type": "code",
   "execution_count": 88,
   "id": "862a68c0",
   "metadata": {},
   "outputs": [
    {
     "name": "stdout",
     "output_type": "stream",
     "text": [
      "List of lists result:\n",
      "[[60, 70], [140, 166], [220, 262]]\n",
      "Time taken : 0.000471 seconds\n"
     ]
    }
   ],
   "source": [
    "start = time.time()\n",
    "C_list = matrix_mul(A, B)\n",
    "\n",
    "print(\"List of lists result:\")\n",
    "print(C_list)\n",
    "end = time.time()\n",
    "print(f\"Time taken : {end - start:.6f} seconds\")"
   ]
  },
  {
   "cell_type": "code",
   "execution_count": 89,
   "id": "cd1e9d9b",
   "metadata": {},
   "outputs": [
    {
     "name": "stdout",
     "output_type": "stream",
     "text": [
      "\n",
      "Numpy result:\n",
      "[[ 60  70]\n",
      " [140 166]\n",
      " [220 262]]\n",
      "Time taken: 0.000130 seconds\n"
     ]
    }
   ],
   "source": [
    "A_np = np.array(A)\n",
    "B_np = np.array(B)\n",
    "\n",
    "start = time.time()\n",
    "C_np = np.dot(A_np, B_np)\n",
    "end = time.time()\n",
    "\n",
    "print(\"\\nNumpy result:\")\n",
    "print(C_np)\n",
    "print(f\"Time taken: {end - start:.6f} seconds\")"
   ]
  },
  {
   "cell_type": "markdown",
   "id": "0e89930b",
   "metadata": {},
   "source": [
    "**Numpy is faster as in numpy all element of same data type are stored together whereas in list it is stores randomly. Thus it becomes faster to access elements in a numpy array as they are stored together.**"
   ]
  },
  {
   "cell_type": "markdown",
   "id": "208b4ab2",
   "metadata": {},
   "source": [
    "**3. Finding the highest element in a list requires one pass of the array. Finding the second highest element requires 2 passes of the array. Using this method, what is the time complexity of finding the median of the array? Can you suggest a better method? Can you implement both these methods in Python and compare against numpy.median routine in terms of time?**"
   ]
  },
  {
   "cell_type": "code",
   "execution_count": 90,
   "id": "20cdb752",
   "metadata": {},
   "outputs": [],
   "source": [
    "arr = np.random.randint(1, 1000, 100)"
   ]
  },
  {
   "cell_type": "markdown",
   "id": "3b828736",
   "metadata": {},
   "source": [
    "##### **Method 1**"
   ]
  },
  {
   "cell_type": "code",
   "execution_count": 57,
   "id": "fb04adaa",
   "metadata": {},
   "outputs": [
    {
     "name": "stdout",
     "output_type": "stream",
     "text": [
      "476.0\n",
      "Time taken: 0.003520 seconds\n"
     ]
    }
   ],
   "source": [
    "start = time.time()\n",
    "\n",
    "sorted_arr = []\n",
    "used_idx = [0 for _ in range(100)]\n",
    "for i in range(100):\n",
    "    mx = -1\n",
    "    mx_idx = -1\n",
    "    for j in range(100):\n",
    "        if used_idx[j] == 1:\n",
    "            continue\n",
    "        if arr[j] >= mx:\n",
    "            mx = arr[j]\n",
    "            mx_idx = j\n",
    "    used_idx[mx_idx] = 1\n",
    "    sorted_arr.append(mx)\n",
    "\n",
    "med = (sorted_arr[49] + sorted_arr[50])/2\n",
    "\n",
    "end = time.time()\n",
    "\n",
    "print(med)\n",
    "print(f\"Time taken: {end - start:.6f} seconds\")\n"
   ]
  },
  {
   "cell_type": "markdown",
   "id": "630df133",
   "metadata": {},
   "source": [
    "##### **Method 2**\n"
   ]
  },
  {
   "cell_type": "code",
   "execution_count": 108,
   "id": "c026c6f6",
   "metadata": {},
   "outputs": [
    {
     "name": "stdout",
     "output_type": "stream",
     "text": [
      "541.0\n",
      "Time taken: 0.002305 seconds\n"
     ]
    }
   ],
   "source": [
    "start = time.time()\n",
    "\n",
    "sorted_arr = sorted(arr);\n",
    "med = (sorted_arr[49] + sorted_arr[50])/2\n",
    "\n",
    "print(med)\n",
    "end = time.time()\n",
    "\n",
    "print(f\"Time taken: {end - start:.6f} seconds\")"
   ]
  },
  {
   "cell_type": "markdown",
   "id": "4e690a30",
   "metadata": {},
   "source": [
    "##### **Method 3**"
   ]
  },
  {
   "cell_type": "code",
   "execution_count": 109,
   "id": "69dc2f52",
   "metadata": {},
   "outputs": [
    {
     "name": "stdout",
     "output_type": "stream",
     "text": [
      "541.0\n",
      "Time taken: 0.002209 seconds.\n"
     ]
    }
   ],
   "source": [
    "start = time.time()\n",
    "med = np.median(arr)\n",
    "end = time.time()\n",
    "\n",
    "print(med)\n",
    "print(f\"Time taken: {end - start:.6f} seconds.\")"
   ]
  },
  {
   "cell_type": "markdown",
   "id": "d18e3a21",
   "metadata": {},
   "source": [
    "##### **Time Complexity**\n",
    "\n",
    "Time complexity of Method 1 is O($ n^2 $) as we used 2 for loops of n operations each to first find the maximum element each time.\n",
    "\n",
    "Where as in Method 2, I used in-built sorting function which sort the array in O($ n*log(n) $) time.\n",
    "\n",
    "Using `numpy.median()` is the fastest."
   ]
  },
  {
   "cell_type": "markdown",
   "id": "70efebf7",
   "metadata": {},
   "source": [
    "**4. What is the gradient of the following function with respect to \\( x \\) and \\( y \\)?**\n",
    "\n",
    "**$f(x, y) = x^3 y + y^3 \\sin(x)$**\n"
   ]
  },
  {
   "cell_type": "markdown",
   "id": "52735758",
   "metadata": {},
   "source": [
    "**Gradient wrt x :** $ \\frac{d f(x, y)}{dx} = 3*x^2*y + x^3*\\frac{dy}{dx} + 3*y^2*\\frac{dy}{dx}*\\sin(x) + y^3*\\cos(x) $\n",
    "\n",
    "**Gradient wrt y :** $ \\frac{d f(x, y)}{dy} = 3*x^2*\\frac{dx}{dy} + x^3 + 3*y^2*\\sin(x) + y^3*\\cos(x)*\\frac{dx}{dy} $\n"
   ]
  },
  {
   "cell_type": "markdown",
   "id": "fb20e616",
   "metadata": {},
   "source": [
    "**5. Use JAX to confirm the gradient evaluated by your method matches the analytical solution corresponding to a few random values of x and y**"
   ]
  },
  {
   "cell_type": "code",
   "execution_count": 110,
   "id": "b0f19094",
   "metadata": {},
   "outputs": [
    {
     "name": "stdout",
     "output_type": "stream",
     "text": [
      "x = 4.7645, y = 3.6890\n",
      "  JAX grad:        df/dx = 253.839279, df/dy = 67.386307\n",
      "  Analytical grad: df/dx = 253.839279, df/dy = 67.386307\n",
      "  Difference:      dx = 0.00e+00,      dy = 0.00e+00\n",
      "------------------------------------------------------------\n",
      "x = 4.9036, y = 4.1141\n",
      "  JAX grad:        df/dx = 310.013947, df/dy = 68.056023\n",
      "  Analytical grad: df/dx = 310.013947, df/dy = 68.056023\n",
      "  Difference:      dx = 0.00e+00,      dy = 0.00e+00\n",
      "------------------------------------------------------------\n",
      "x = 1.9953, y = 3.0044\n",
      "  JAX grad:        df/dx = 24.714226, df/dy = 32.619499\n",
      "  Analytical grad: df/dx = 24.714226, df/dy = 32.619499\n",
      "  Difference:      dx = 0.00e+00,      dy = 0.00e+00\n",
      "------------------------------------------------------------\n",
      "x = 2.6090, y = 2.8637\n",
      "  JAX grad:        df/dx = 38.247070, df/dy = 30.251270\n",
      "  Analytical grad: df/dx = 38.247070, df/dy = 30.251270\n",
      "  Difference:      dx = 0.00e+00,      dy = 0.00e+00\n",
      "------------------------------------------------------------\n",
      "x = 3.0645, y = 0.5184\n",
      "  JAX grad:        df/dx = 14.465754, df/dy = 28.841274\n",
      "  Analytical grad: df/dx = 14.465754, df/dy = 28.841274\n",
      "  Difference:      dx = 0.00e+00,      dy = 0.00e+00\n",
      "------------------------------------------------------------\n"
     ]
    }
   ],
   "source": [
    "def f(x, y):\n",
    "    return x**3 * y + y**3 * jnp.sin(x)\n",
    "\n",
    "def grad_analytical(x, y):\n",
    "    df_dx = 3 * x**2 * y + y**3 * jnp.cos(x)\n",
    "    df_dy = x**3 + 3 * y**2 * jnp.sin(x)\n",
    "    return df_dx, df_dy\n",
    "\n",
    "grad_f = jax.grad(f, argnums=(0, 1))\n",
    "\n",
    "key = jax.random.PRNGKey(0)\n",
    "xs = jax.random.uniform(key, (5,), minval=0.5, maxval=5.0)\n",
    "ys = jax.random.uniform(key+1, (5,), minval=0.5, maxval=5.0)\n",
    "\n",
    "for i in range(5):\n",
    "    x = xs[i]\n",
    "    y = ys[i]\n",
    "    grad_jax = grad_f(x, y)\n",
    "    grad_ana = grad_analytical(x, y)\n",
    "    print(f\"x = {float(x):.4f}, y = {float(y):.4f}\")\n",
    "    print(f\"  JAX grad:        df/dx = {float(grad_jax[0]):.6f}, df/dy = {float(grad_jax[1]):.6f}\")\n",
    "    print(f\"  Analytical grad: df/dx = {float(grad_ana[0]):.6f}, df/dy = {float(grad_ana[1]):.6f}\")\n",
    "    print(f\"  Difference:      dx = {abs(float(grad_jax[0]) - float(grad_ana[0])):.2e},      dy = {abs(float(grad_jax[1]) - float(grad_ana[1])):.2e}\")\n",
    "    print(\"-\" * 60)\n"
   ]
  },
  {
   "cell_type": "markdown",
   "id": "3fb262e6",
   "metadata": {},
   "source": [
    "**6. Use sympy to confirm that you obtain the same gradient analytically.**"
   ]
  },
  {
   "cell_type": "code",
   "execution_count": 111,
   "id": "159d32de",
   "metadata": {},
   "outputs": [
    {
     "name": "stdout",
     "output_type": "stream",
     "text": [
      "Gradient wrt x: 3*x**2*y + y**3*cos(x)\n",
      "Gradient wrt y: x**3 + 3*y**2*sin(x)\n"
     ]
    }
   ],
   "source": [
    "x_sym, y_sym = sp.symbols('x y')\n",
    "f_sym = x_sym**3 * y_sym + y_sym**3 * sp.sin(x_sym)\n",
    "\n",
    "df_dx_sym = sp.diff(f_sym, x_sym)\n",
    "df_dy_sym = sp.diff(f_sym, y_sym)\n",
    "\n",
    "print(\"Gradient wrt x:\", df_dx_sym)\n",
    "print(\"Gradient wrt y:\", df_dy_sym)"
   ]
  },
  {
   "cell_type": "markdown",
   "id": "9ff63eb0",
   "metadata": {},
   "source": [
    "7. **Create a Python nested dictionary to represent hierarchical information. We want to store record of students and their marks. Something like:**\n",
    "\n",
    "    1. 2022\n",
    "        1. Branch 1\n",
    "            1. Roll Number: 1, Name: N, Marks:\n",
    "                1.Maths: 100, English: 70 …\n",
    "        2. Branch 2\n",
    "    2. 2023\n",
    "        1. Branch 1\n",
    "        2. Branch 2\n",
    "    3. 2024\n",
    "        1. Branch 1\n",
    "        2. Branch 2\n",
    "    4. 2025\n",
    "        1. Branch 1\n",
    "        2. Branch 2 "
   ]
  },
  {
   "cell_type": "code",
   "execution_count": 112,
   "id": "e754afd4",
   "metadata": {},
   "outputs": [],
   "source": [
    "students = {\n",
    "    '2024': {\n",
    "        'Branch 1': [\n",
    "            {\n",
    "                'roll': 1, \n",
    "                'name': 'Virat Kohli', \n",
    "                'marks': {'Maths': 95, 'English': 88}\n",
    "            },\n",
    "            {\n",
    "                'roll': 2,\n",
    "                'name': 'Rohit Sharma', \n",
    "                'marks': {'Maths': 78, 'English': 82}\n",
    "            }\n",
    "        ],\n",
    "        'Branch 2': [\n",
    "            {\n",
    "                'roll': 3, \n",
    "                'name': 'Jasprit Bumrah', \n",
    "                'marks': {'Maths': 85, 'English': 90}\n",
    "            }\n",
    "        ]\n",
    "    },\n",
    "    '2025': {\n",
    "        'Branch 1': [\n",
    "            {\n",
    "                'roll': 4, \n",
    "                'name': 'Hardik Pandya', \n",
    "                'marks': {'Maths': 92, 'English': 80}\n",
    "            }\n",
    "        ],\n",
    "        'Branch 2': [\n",
    "            {\n",
    "                'roll': 5, \n",
    "                'name': 'Ravindra Jadeja', \n",
    "                'marks': {'Maths': 88, 'English': 91}\n",
    "            }\n",
    "        ]\n",
    "    }\n",
    "}"
   ]
  },
  {
   "cell_type": "markdown",
   "id": "3a664fc3",
   "metadata": {},
   "source": [
    "**8. Store the same information using Python classes. We have an overall database which is a list of year objects. Each year contains a list of branches. Each branch contains a list of students. Each student has some properties like name, roll number and has marks in some subjects.**"
   ]
  },
  {
   "cell_type": "code",
   "execution_count": 113,
   "id": "d78e72ce",
   "metadata": {},
   "outputs": [
    {
     "name": "stdout",
     "output_type": "stream",
     "text": [
      "Student(roll=1, name='Virat Kohli', marks={'Maths': 95, 'English': 88})\n",
      "Student(roll=2, name='Rohit Sharma', marks={'Maths': 78, 'English': 82})\n"
     ]
    }
   ],
   "source": [
    "class Student:\n",
    "    def __init__(self, roll, name, marks):\n",
    "        self.roll = roll\n",
    "        self.name = name\n",
    "        self.marks = marks\n",
    "    def __repr__(self):\n",
    "        return f\"Student(roll={self.roll}, name='{self.name}', marks={self.marks})\"\n",
    "\n",
    "class Branch:\n",
    "    def __init__(self, name):\n",
    "        self.name = name\n",
    "        self.students = []\n",
    "    def add_student(self, student):\n",
    "        self.students.append(student)\n",
    "    def __repr__(self):\n",
    "        return f\"Branch(name='{self.name}', students={self.students})\"\n",
    "\n",
    "class Year:\n",
    "    def __init__(self, year):\n",
    "        self.year = year\n",
    "        self.branches = []\n",
    "    def add_branch(self, branch):\n",
    "        self.branches.append(branch)\n",
    "    def __repr__(self):\n",
    "        return f\"Year(year={self.year}, branches={self.branches})\"\n",
    "\n",
    "\n",
    "db = []\n",
    "year2024 = Year(2024)\n",
    "branch1_2024 = Branch('Branch 1')\n",
    "branch1_2024.add_student(Student(1, 'Virat Kohli', {'Maths': 95, 'English': 88}))\n",
    "branch1_2024.add_student(Student(2, 'Rohit Sharma', {'Maths': 78, 'English': 82}))\n",
    "branch2_2024 = Branch('Branch 2')\n",
    "branch2_2024.add_student(Student(3, 'Hardik Pandya', {'Maths': 85, 'English': 90}))\n",
    "year2024.add_branch(branch1_2024)\n",
    "year2024.add_branch(branch2_2024)\n",
    "db.append(year2024)\n",
    "\n",
    "for branch in db[0].branches:\n",
    "    if branch.name == 'Branch 1':\n",
    "        for student in branch.students:\n",
    "            print(student)"
   ]
  },
  {
   "cell_type": "markdown",
   "id": "bbfe6366",
   "metadata": {},
   "source": [
    "**9. Using matplotlib plot the following functions on the domain: x = 0.5 to 100.0 in steps of 0.5**\n",
    "\n",
    "1. $ y = x $\n",
    "2. $ y = x^2 $\n",
    "3. $ y = \\frac{x^3}{100} $\n",
    "4. $ y = \\sin(x) $\n",
    "5. $ y = \\frac{\\sin(x)}{x} $\n",
    "6. $ y = \\log(x) $\n",
    "7. $ y = e^x $"
   ]
  },
  {
   "cell_type": "code",
   "execution_count": 114,
   "id": "4b560e00",
   "metadata": {},
   "outputs": [
    {
     "data": {
      "image/png": "[encoded data removed]",
      "text/plain": [
       "<Figure size 1600x800 with 8 Axes>"
      ]
     },
     "metadata": {},
     "output_type": "display_data"
    }
   ],
   "source": [
    "x = np.arange(0.5, 100.5, 0.5)\n",
    "fig, axs = plt.subplots(2, 4, figsize=(16, 8))\n",
    "\n",
    "y = x;\n",
    "axs[0, 0].plot(x, y)\n",
    "axs[0, 0].set_title(\"1. y = x\")\n",
    "\n",
    "y = x*x\n",
    "axs[0, 1].plot(x, y)\n",
    "axs[0, 1].set_title(\"2. y = x^2\")\n",
    "\n",
    "y = x**3 / 100\n",
    "axs[0, 2].plot(x, y)\n",
    "axs[0, 2].set_title(\"3. y = x^3 / 100\")\n",
    "\n",
    "y = np.sin(x)\n",
    "axs[0, 3].plot(x, y)\n",
    "axs[0, 3].set_title(\"4. y = sin(x)\")\n",
    "\n",
    "y = np.sin(x) / x\n",
    "axs[1, 0].plot(x, y)\n",
    "axs[1, 0].set_title(\"5. y = sin(x) / x\")\n",
    "\n",
    "y = np.log(x)\n",
    "axs[1, 1].plot(x, y)\n",
    "axs[1, 1].set_title(\"6. y = log(x)\")\n",
    "\n",
    "y = np.exp(x)\n",
    "axs[1, 2].plot(x, y)\n",
    "axs[1, 2].set_title(\"7. y = e^x\")\n",
    "\n",
    "plt.show()"
   ]
  },
  {
   "cell_type": "markdown",
   "id": "09804ca4",
   "metadata": {},
   "source": [
    "**10. Using numpy generate a matrix of size 20X5 containing random numbers drawn uniformly from the range of 1 to 2. Using Pandas create a dataframe out of this matrix. Name the columns of the dataframe as “a”, “b”, “c”, “d”, “e”. Find the column with the highest standard deviation. Find the row with the lowest mean.**"
   ]
  },
  {
   "cell_type": "code",
   "execution_count": 115,
   "id": "d2810252",
   "metadata": {},
   "outputs": [
    {
     "data": {
      "text/html": [
       "<div>\n",
       "<style scoped>\n",
       "    .dataframe tbody tr th:only-of-type {\n",
       "        vertical-align: middle;\n",
       "    }\n",
       "\n",
       "    .dataframe tbody tr th {\n",
       "        vertical-align: top;\n",
       "    }\n",
       "\n",
       "    .dataframe thead th {\n",
       "        text-align: right;\n",
       "    }\n",
       "</style>\n",
       "<table border=\"1\" class=\"dataframe\">\n",
       "  <thead>\n",
       "    <tr style=\"text-align: right;\">\n",
       "      <th></th>\n",
       "      <th>a</th>\n",
       "      <th>b</th>\n",
       "      <th>c</th>\n",
       "      <th>d</th>\n",
       "      <th>e</th>\n",
       "    </tr>\n",
       "  </thead>\n",
       "  <tbody>\n",
       "    <tr>\n",
       "      <th>0</th>\n",
       "      <td>1.508360</td>\n",
       "      <td>1.892552</td>\n",
       "      <td>1.687326</td>\n",
       "      <td>1.954149</td>\n",
       "      <td>1.120419</td>\n",
       "    </tr>\n",
       "    <tr>\n",
       "      <th>1</th>\n",
       "      <td>1.395211</td>\n",
       "      <td>1.533500</td>\n",
       "      <td>1.099662</td>\n",
       "      <td>1.876820</td>\n",
       "      <td>1.868127</td>\n",
       "    </tr>\n",
       "    <tr>\n",
       "      <th>2</th>\n",
       "      <td>1.777393</td>\n",
       "      <td>1.637706</td>\n",
       "      <td>1.413548</td>\n",
       "      <td>1.389703</td>\n",
       "      <td>1.813834</td>\n",
       "    </tr>\n",
       "    <tr>\n",
       "      <th>3</th>\n",
       "      <td>1.087978</td>\n",
       "      <td>1.842218</td>\n",
       "      <td>1.305356</td>\n",
       "      <td>1.346820</td>\n",
       "      <td>1.333159</td>\n",
       "    </tr>\n",
       "    <tr>\n",
       "      <th>4</th>\n",
       "      <td>1.125016</td>\n",
       "      <td>1.919714</td>\n",
       "      <td>1.087453</td>\n",
       "      <td>1.742074</td>\n",
       "      <td>1.898070</td>\n",
       "    </tr>\n",
       "  </tbody>\n",
       "</table>\n",
       "</div>"
      ],
      "text/plain": [
       "          a         b         c         d         e\n",
       "0  1.508360  1.892552  1.687326  1.954149  1.120419\n",
       "1  1.395211  1.533500  1.099662  1.876820  1.868127\n",
       "2  1.777393  1.637706  1.413548  1.389703  1.813834\n",
       "3  1.087978  1.842218  1.305356  1.346820  1.333159\n",
       "4  1.125016  1.919714  1.087453  1.742074  1.898070"
      ]
     },
     "execution_count": 115,
     "metadata": {},
     "output_type": "execute_result"
    }
   ],
   "source": [
    "matrix = np.random.uniform(1, 2, (20, 5))\n",
    "\n",
    "column_names = [\"a\", \"b\", \"c\", \"d\", \"e\"]\n",
    "df = pd.DataFrame(data = matrix, columns = column_names)\n",
    "df.head()"
   ]
  },
  {
   "cell_type": "code",
   "execution_count": 116,
   "id": "abc11f2e",
   "metadata": {},
   "outputs": [
    {
     "name": "stdout",
     "output_type": "stream",
     "text": [
      "Column with the highest standard deviation: 'e'\n"
     ]
    }
   ],
   "source": [
    "column_std = df.std()\n",
    "highest_std_column = column_std.idxmax()\n",
    "print(f\"Column with the highest standard deviation: '{highest_std_column}'\")"
   ]
  },
  {
   "cell_type": "code",
   "execution_count": 117,
   "id": "aee55c6a",
   "metadata": {},
   "outputs": [
    {
     "name": "stdout",
     "output_type": "stream",
     "text": [
      "Row with the lowest mean is at index: 11\n"
     ]
    }
   ],
   "source": [
    "row_mean = df.mean(axis=1)\n",
    "lowest_mean_row_index = row_mean.idxmin()\n",
    "print(f\"Row with the lowest mean is at index: {lowest_mean_row_index}\")"
   ]
  },
  {
   "cell_type": "markdown",
   "id": "f5238bed",
   "metadata": {},
   "source": [
    "**11. Add a new column to the dataframe called “f” which is the sum of the columns “a”, “b”, “c”, “d”, “e”. Create another column called “g”. The value in the column “g” should be “LT8” if the value in the column “f” is less than 8 and “GT8” otherwise. Find the number of rows in the dataframe where the value in the column “g” is “LT8”. Find the standard deviation of the column “f” for the rows where the value in the column “g” is “LT8” and “GT8” respectively.**"
   ]
  },
  {
   "cell_type": "code",
   "execution_count": 118,
   "id": "f6051567",
   "metadata": {},
   "outputs": [
    {
     "data": {
      "text/html": [
       "<div>\n",
       "<style scoped>\n",
       "    .dataframe tbody tr th:only-of-type {\n",
       "        vertical-align: middle;\n",
       "    }\n",
       "\n",
       "    .dataframe tbody tr th {\n",
       "        vertical-align: top;\n",
       "    }\n",
       "\n",
       "    .dataframe thead th {\n",
       "        text-align: right;\n",
       "    }\n",
       "</style>\n",
       "<table border=\"1\" class=\"dataframe\">\n",
       "  <thead>\n",
       "    <tr style=\"text-align: right;\">\n",
       "      <th></th>\n",
       "      <th>a</th>\n",
       "      <th>b</th>\n",
       "      <th>c</th>\n",
       "      <th>d</th>\n",
       "      <th>e</th>\n",
       "      <th>f</th>\n",
       "      <th>g</th>\n",
       "    </tr>\n",
       "  </thead>\n",
       "  <tbody>\n",
       "    <tr>\n",
       "      <th>0</th>\n",
       "      <td>1.508360</td>\n",
       "      <td>1.892552</td>\n",
       "      <td>1.687326</td>\n",
       "      <td>1.954149</td>\n",
       "      <td>1.120419</td>\n",
       "      <td>8.162806</td>\n",
       "      <td>GT8</td>\n",
       "    </tr>\n",
       "    <tr>\n",
       "      <th>1</th>\n",
       "      <td>1.395211</td>\n",
       "      <td>1.533500</td>\n",
       "      <td>1.099662</td>\n",
       "      <td>1.876820</td>\n",
       "      <td>1.868127</td>\n",
       "      <td>7.773320</td>\n",
       "      <td>LT8</td>\n",
       "    </tr>\n",
       "    <tr>\n",
       "      <th>2</th>\n",
       "      <td>1.777393</td>\n",
       "      <td>1.637706</td>\n",
       "      <td>1.413548</td>\n",
       "      <td>1.389703</td>\n",
       "      <td>1.813834</td>\n",
       "      <td>8.032184</td>\n",
       "      <td>GT8</td>\n",
       "    </tr>\n",
       "    <tr>\n",
       "      <th>3</th>\n",
       "      <td>1.087978</td>\n",
       "      <td>1.842218</td>\n",
       "      <td>1.305356</td>\n",
       "      <td>1.346820</td>\n",
       "      <td>1.333159</td>\n",
       "      <td>6.915530</td>\n",
       "      <td>LT8</td>\n",
       "    </tr>\n",
       "    <tr>\n",
       "      <th>4</th>\n",
       "      <td>1.125016</td>\n",
       "      <td>1.919714</td>\n",
       "      <td>1.087453</td>\n",
       "      <td>1.742074</td>\n",
       "      <td>1.898070</td>\n",
       "      <td>7.772328</td>\n",
       "      <td>LT8</td>\n",
       "    </tr>\n",
       "  </tbody>\n",
       "</table>\n",
       "</div>"
      ],
      "text/plain": [
       "          a         b         c         d         e         f    g\n",
       "0  1.508360  1.892552  1.687326  1.954149  1.120419  8.162806  GT8\n",
       "1  1.395211  1.533500  1.099662  1.876820  1.868127  7.773320  LT8\n",
       "2  1.777393  1.637706  1.413548  1.389703  1.813834  8.032184  GT8\n",
       "3  1.087978  1.842218  1.305356  1.346820  1.333159  6.915530  LT8\n",
       "4  1.125016  1.919714  1.087453  1.742074  1.898070  7.772328  LT8"
      ]
     },
     "execution_count": 118,
     "metadata": {},
     "output_type": "execute_result"
    }
   ],
   "source": [
    "df['f'] = df[['a', 'b', 'c', 'd', 'e']].sum(axis=1)\n",
    "df['g'] = np.where(df['f'] < 8, 'LT8', 'GT8')\n",
    "df.head()"
   ]
  },
  {
   "cell_type": "code",
   "execution_count": 119,
   "id": "0471b797",
   "metadata": {},
   "outputs": [
    {
     "name": "stdout",
     "output_type": "stream",
     "text": [
      "Number of rows where 'g' is 'LT8': 13\n"
     ]
    }
   ],
   "source": [
    "lt8_cnt = (df['g'] == 'LT8').sum()\n",
    "print(f\"Number of rows where 'g' is 'LT8': {lt8_cnt}\")"
   ]
  },
  {
   "cell_type": "code",
   "execution_count": 120,
   "id": "4090656a",
   "metadata": {},
   "outputs": [
    {
     "name": "stdout",
     "output_type": "stream",
     "text": [
      "g\n",
      "GT8    0.157468\n",
      "LT8    0.579556\n",
      "Name: f, dtype: float64\n"
     ]
    }
   ],
   "source": [
    "std_by_g = df.groupby('g')['f'].std()\n",
    "print(std_by_g)"
   ]
  },
  {
   "cell_type": "markdown",
   "id": "e12cfd27",
   "metadata": {},
   "source": [
    "**12. Write a small piece of code to explain broadcasting in numpy.**"
   ]
  },
  {
   "cell_type": "code",
   "execution_count": 121,
   "id": "e891b398",
   "metadata": {},
   "outputs": [
    {
     "name": "stdout",
     "output_type": "stream",
     "text": [
      "--- Example 1: Broadcasting a Scalar ---\n",
      "Original array 'a':\n",
      " [[1 2 3]\n",
      " [4 5 6]]\n",
      "\n",
      "Result of 'a + 10':\n",
      " [[11 13 15]\n",
      " [14 16 18]]\n"
     ]
    }
   ],
   "source": [
    "a = np.array([\n",
    "    [1, 2, 3],\n",
    "    [4, 5, 6]\n",
    "])\n",
    "\n",
    "b = np.array([10, 11, 12])\n",
    "\n",
    "result_scalar = a + b\n",
    "\n",
    "print(\"--- Example 1: Broadcasting a Scalar ---\")\n",
    "print(\"Original array 'a':\\n\", a)\n",
    "print(\"\\nResult of 'a + 10':\\n\", result_scalar)"
   ]
  },
  {
   "cell_type": "markdown",
   "id": "15314313",
   "metadata": {},
   "source": [
    "**13. Write a function to compute the argmin of a numpy array. The function should take a numpy array as input and return the index of the minimum element. You can use the np.argmin function to verify your solution.**"
   ]
  },
  {
   "cell_type": "code",
   "execution_count": 122,
   "id": "80cdab14",
   "metadata": {},
   "outputs": [],
   "source": [
    "def find_argmin(arr):\n",
    "    idx = 0\n",
    "    for i in range(len(arr)):\n",
    "        if(arr[i] < arr[idx]):\n",
    "            idx = i\n",
    "        \n",
    "    return idx"
   ]
  },
  {
   "cell_type": "code",
   "execution_count": 123,
   "id": "4995fb63",
   "metadata": {},
   "outputs": [
    {
     "name": "stdout",
     "output_type": "stream",
     "text": [
      "Test Array: [ 5 12  3  8 20  3  9]\n",
      "My function's result: 2\n",
      "NumPy's np.argmin() result: 2\n"
     ]
    }
   ],
   "source": [
    "arr = np.array([5, 12, 3, 8, 20, 3, 9])\n",
    "print(f\"Test Array: {arr}\")\n",
    "\n",
    "my_argmin_result = find_argmin(arr)\n",
    "print(f\"My function's result: {my_argmin_result}\")\n",
    "\n",
    "numpy_argmin_result = np.argmin(arr)\n",
    "print(f\"NumPy's np.argmin() result: {numpy_argmin_result}\")"
   ]
  }
 ],
 "metadata": {
  "kernelspec": {
   "display_name": "Python 3",
   "language": "python",
   "name": "python3"
  },
  "language_info": {
   "codemirror_mode": {
    "name": "ipython",
    "version": 3
   },
   "file_extension": ".py",
   "mimetype": "text/x-python",
   "name": "python",
   "nbconvert_exporter": "python",
   "pygments_lexer": "ipython3",
   "version": "3.12.1"
  }
 },
 "nbformat": 4,
 "nbformat_minor": 5
}
